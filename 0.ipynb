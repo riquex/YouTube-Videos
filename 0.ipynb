{
 "cells": [
  {
   "cell_type": "markdown",
   "metadata": {},
   "source": [
    "# Otimização"
   ]
  },
  {
   "cell_type": "code",
   "execution_count": 4,
   "metadata": {},
   "outputs": [
    {
     "name": "stdout",
     "output_type": "stream",
     "text": [
      "147 ms ± 25.4 ms per loop (mean ± std. dev. of 7 runs, 10 loops each)\n"
     ]
    }
   ],
   "source": [
    "# 2, 3, 5, 7, 11, 13, 19, 23, ...\n",
    "\n",
    "def primos(n: int):\n",
    "    primos_list = []\n",
    "    valor = 2\n",
    "    while n > 0:\n",
    "        test=True\n",
    "        for p in primos_list:\n",
    "            if valor % p == 0:\n",
    "                test=False\n",
    "                break\n",
    "        if test:\n",
    "            n -= 1\n",
    "            primos_list.append(valor)\n",
    "        valor += 1\n",
    "    return primos_list\n",
    "\n",
    "%timeit primos(1000)"
   ]
  },
  {
   "cell_type": "code",
   "execution_count": 3,
   "metadata": {},
   "outputs": [
    {
     "name": "stdout",
     "output_type": "stream",
     "text": [
      "149 ms ± 21.8 ms per loop (mean ± std. dev. of 7 runs, 10 loops each)\n"
     ]
    }
   ],
   "source": [
    "# 2, 3, 5, 7, 11, 13, 19, 23, ...\n",
    "\n",
    "def primos(n: int):\n",
    "    assert n > 1\n",
    "    primos_list = [2]\n",
    "    valor = 3\n",
    "    while n > 0:\n",
    "        test=True\n",
    "        for p in primos_list:\n",
    "            if valor % p == 0:\n",
    "                test=False\n",
    "                break\n",
    "        if test:\n",
    "            n -= 1\n",
    "            primos_list.append(valor)\n",
    "        valor += 2\n",
    "    return primos_list\n",
    "\n",
    "%timeit primos(1000)"
   ]
  },
  {
   "cell_type": "code",
   "execution_count": 6,
   "metadata": {},
   "outputs": [
    {
     "name": "stdout",
     "output_type": "stream",
     "text": [
      "113 ms ± 11.9 ms per loop (mean ± std. dev. of 7 runs, 10 loops each)\n"
     ]
    }
   ],
   "source": [
    "# 2, 3, 5, 7, 11, 13, 19, 23, ...\n",
    "\n",
    "def primos(n: int):\n",
    "    assert n > 1\n",
    "    primos_list = [2]\n",
    "    valor = 3\n",
    "    while n > 0:\n",
    "        test=True\n",
    "        primo_max = valor // 2\n",
    "        for p in primos_list:\n",
    "            if valor % p == 0:\n",
    "                test=False\n",
    "                break\n",
    "            if p > primo_max:\n",
    "                break\n",
    "        if test:\n",
    "            n -= 1\n",
    "            primos_list.append(valor)\n",
    "        valor += 2\n",
    "    return primos_list\n",
    "\n",
    "%timeit primos(1000)"
   ]
  },
  {
   "cell_type": "code",
   "execution_count": 9,
   "metadata": {},
   "outputs": [
    {
     "name": "stdout",
     "output_type": "stream",
     "text": [
      "84.7 ms ± 14.6 ms per loop (mean ± std. dev. of 7 runs, 10 loops each)\n"
     ]
    }
   ],
   "source": [
    "# 2, 3, 5, 7, 11, 13, 19, 23, ...\n",
    "\n",
    "def primos(n: int):\n",
    "    assert n > 1\n",
    "    primos_list = [2]\n",
    "    valor = 3\n",
    "    while n > 0:\n",
    "        test=True\n",
    "        primo_max = (valor // 3) + 1\n",
    "        for p in primos_list:\n",
    "            if valor % p == 0:\n",
    "                test=False\n",
    "                break\n",
    "            if p > primo_max:\n",
    "                break\n",
    "        if test:\n",
    "            n -= 1\n",
    "            primos_list.append(valor)\n",
    "        valor += 2\n",
    "    return primos_list\n",
    "\n",
    "%timeit primos(1000)"
   ]
  },
  {
   "cell_type": "code",
   "execution_count": 11,
   "metadata": {},
   "outputs": [
    {
     "name": "stdout",
     "output_type": "stream",
     "text": [
      "16.9 ms ± 4.4 ms per loop (mean ± std. dev. of 7 runs, 10 loops each)\n"
     ]
    }
   ],
   "source": [
    "# 2, 3, 5, 7, 11, 13, 19, 23, ...\n",
    "\n",
    "def primos(n: int):\n",
    "    assert n > 1\n",
    "    primos_list = [2]\n",
    "    valor = 3\n",
    "    while n > 0:\n",
    "        test=True\n",
    "        for p in primos_list:\n",
    "            primo_max = valor // p\n",
    "            if valor % p == 0:\n",
    "                test=False\n",
    "                break\n",
    "            if p > primo_max:\n",
    "                break\n",
    "        if test:\n",
    "            n -= 1\n",
    "            primos_list.append(valor)\n",
    "        valor += 2\n",
    "    return primos_list\n",
    "\n",
    "%timeit primos(1000)"
   ]
  },
  {
   "cell_type": "markdown",
   "metadata": {},
   "source": [
    "$$\n",
    "p^2\\le n \\\\\n",
    "p \\le \\sqrt{n}\n",
    "$$"
   ]
  },
  {
   "cell_type": "code",
   "execution_count": 20,
   "metadata": {},
   "outputs": [
    {
     "name": "stdout",
     "output_type": "stream",
     "text": [
      "14.5 ms ± 1.71 ms per loop (mean ± std. dev. of 7 runs, 10 loops each)\n"
     ]
    }
   ],
   "source": [
    "# 2, 3, 5, 7, 11, 13, 19, 23, ...\n",
    "from math import sqrt\n",
    "\n",
    "def primos(n: int):\n",
    "    assert n > 1\n",
    "    primos_list = [2]\n",
    "    valor = 3\n",
    "    while n > 0:\n",
    "        test=True\n",
    "        primo_max = sqrt(valor)\n",
    "        for p in primos_list:\n",
    "            if valor % p == 0:\n",
    "                test=False\n",
    "                break\n",
    "            if primo_max < p:\n",
    "                break\n",
    "        if test:\n",
    "            n -= 1\n",
    "            primos_list.append(valor)\n",
    "        valor += 2\n",
    "    return primos_list\n",
    "\n",
    "%timeit primos(1000)"
   ]
  }
 ],
 "metadata": {
  "interpreter": {
   "hash": "61446879cf34646f17eee7de5012bbf468a21da1f4af96b7d5c70e7bc8d53ff8"
  },
  "kernelspec": {
   "display_name": "Python 3.10.6 ('.venv': venv)",
   "language": "python",
   "name": "python3"
  },
  "language_info": {
   "codemirror_mode": {
    "name": "ipython",
    "version": 3
   },
   "file_extension": ".py",
   "mimetype": "text/x-python",
   "name": "python",
   "nbconvert_exporter": "python",
   "pygments_lexer": "ipython3",
   "version": "3.10.6"
  },
  "orig_nbformat": 4
 },
 "nbformat": 4,
 "nbformat_minor": 2
}
